{
 "cells": [
  {
   "cell_type": "markdown",
   "metadata": {},
   "source": [
    "# DCT-based Transform Coding of Images\n",
    "\n",
    "This code is provided as supplementary material of the lecture Quellencodierung.\n",
    "\n",
    "This code illustrates\n",
    "* Show basis functions of the DCT"
   ]
  },
  {
   "cell_type": "code",
   "execution_count": 66,
   "metadata": {},
   "outputs": [],
   "source": [
    "import numpy as np\n",
    "import matplotlib.pyplot as plt\n",
    "import matplotlib.image as mpimg\n",
    "from itertools import chain\n",
    "from scipy import fftpack\n",
    "import scipy as sp\n",
    "\n",
    "from ipywidgets import interactive, HBox, Label\n",
    "import ipywidgets as widgets\n",
    "%matplotlib inline"
   ]
  },
  {
   "cell_type": "markdown",
   "metadata": {},
   "source": [
    "Functions that implement the 2D-DCT and IDCT of type-2 as they are being used in the JPG standard with (see also https://docs.scipy.org/doc/scipy/reference/generated/scipy.fftpack.dct.html)\n",
    "$$\n",
    "X_{u,v} = f(u)f(v)\\sum_{k=0}^{M-1}\\sum_{\\ell=0}^{M-1}x[k,\\ell]\\cos\\left(\\frac{\\pi u(2k+1)}{2M}\\right)\\cos\\left(\\frac{\\pi v(2\\ell+1)}{2M}\\right)\n",
    "$$\n",
    "with\n",
    "$$\n",
    "f(x) = \\begin{cases}\n",
    "\\sqrt{\\frac{1}{M}} & \\text{if }k=0 \\\\\n",
    "\\sqrt{\\frac{2}{M}} & \\text{otherwise}\n",
    "\\end{cases}\n",
    "$$\n",
    "which is, up to a scaling factor, the DCT used in JPG.\n",
    "Note that the 2D-DCT is decomposable, i.e., we can first execute it on a 2D block in one dimension and then execute the transform in another dimension"
   ]
  },
  {
   "cell_type": "code",
   "execution_count": 67,
   "metadata": {},
   "outputs": [],
   "source": [
    "def dct(x):\n",
    "    retval = np.zeros_like(x)\n",
    "    for i in range(x.shape[0]):\n",
    "        for j in range(x.shape[1]):\n",
    "            for k in range(x.shape[0]):\n",
    "                for l in range(x.shape[1]):\n",
    "                    retval[i,j] += x[k,l] * np.cos(np.pi*i*(2*k+1)/2/x.shape[0]) * np.cos(np.pi*j*(2*l+1)/2/x.shape[1])\n",
    "\n",
    "            if i == 0:\n",
    "                retval[i,j] *= np.sqrt(1/x.shape[0])\n",
    "            else:\n",
    "                retval[i,j] *= np.sqrt(2/x.shape[0])\n",
    "            if j == 0:\n",
    "                retval[i,j] *= np.sqrt(1/x.shape[0])\n",
    "            else:\n",
    "                retval[i,j] *= np.sqrt(2/x.shape[0])\n",
    "    return retval    \n",
    "\n",
    "\n",
    "def idct(X):\n",
    "    temp = np.zeros_like(X)\n",
    "    # IDCT in horizontal direction\n",
    "    for i in range(X.shape[0]):\n",
    "        for j in range(X.shape[1]):\n",
    "            temp[i,j] = X[i,0] / np.sqrt(X.shape[1])\n",
    "            for k in range(1,X.shape[1]):\n",
    "                temp[i,j] += X[i,k] * np.cos(np.pi*k*(2*j+1)/2/X.shape[1]) * np.sqrt(2/X.shape[1])\n",
    "    \n",
    "    # IDCT in vertical direction\n",
    "    retval = np.zeros_like(X)\n",
    "    for j in range(X.shape[1]):\n",
    "        for i in range(X.shape[0]):\n",
    "            retval[i,j] = temp[0,j] / np.sqrt(X.shape[0])\n",
    "            for k in range(1,X.shape[0]):\n",
    "                retval[i,j] += temp[k,j] * np.cos(np.pi*k*(2*i+1)/2/X.shape[0]) * np.sqrt(2/X.shape[0])\n",
    "                   \n",
    "    return retval    "
   ]
  },
  {
   "cell_type": "markdown",
   "metadata": {},
   "source": [
    "Verify that the DCT and IDCT are indeed the same functions"
   ]
  },
  {
   "cell_type": "code",
   "execution_count": 68,
   "metadata": {},
   "outputs": [
    {
     "name": "stdout",
     "output_type": "stream",
     "text": [
      "[[-2.22044605e-16 -1.11022302e-16  8.88178420e-16  0.00000000e+00\n",
      "   1.94289029e-16 -1.04083409e-16  4.16333634e-16  1.11022302e-16]\n",
      " [-2.22044605e-16  2.22044605e-16 -8.88178420e-16  3.33066907e-16\n",
      "   4.44089210e-16  0.00000000e+00  3.05311332e-16 -1.33226763e-15]\n",
      " [ 0.00000000e+00  6.66133815e-16  1.11022302e-16  5.55111512e-16\n",
      "   3.33066907e-16  4.44089210e-16 -2.22044605e-16  1.55431223e-15]\n",
      " [ 0.00000000e+00 -2.77555756e-17  3.33066907e-16 -1.11022302e-15\n",
      "   1.33226763e-15 -1.11022302e-15 -8.18789481e-16 -8.04911693e-16]\n",
      " [-2.77555756e-16  0.00000000e+00  2.22044605e-16  2.77555756e-16\n",
      "   1.77635684e-15 -1.05471187e-15 -3.88578059e-16 -6.66133815e-16]\n",
      " [-8.88178420e-16 -1.11022302e-16 -4.44089210e-16 -6.66133815e-16\n",
      "  -3.33066907e-16  5.55111512e-16 -1.94289029e-16 -1.73472348e-16]\n",
      " [-3.64291930e-16  1.11022302e-15  0.00000000e+00 -1.55431223e-15\n",
      "  -2.77555756e-17  2.22044605e-15 -1.33226763e-15  1.33226763e-15]\n",
      " [ 9.71445147e-16 -2.44249065e-15  1.77635684e-15 -2.22044605e-16\n",
      "  -4.44089210e-16 -3.55271368e-15  3.33066907e-16 -4.44089210e-16]]\n"
     ]
    }
   ],
   "source": [
    "x = np.random.randn(8,8)\n",
    "X = dct(x)\n",
    "xh = idct(X)\n",
    "\n",
    "print(x-xh)"
   ]
  },
  {
   "cell_type": "markdown",
   "metadata": {},
   "source": [
    "Show basis functions of DCT"
   ]
  },
  {
   "cell_type": "code",
   "execution_count": 72,
   "metadata": {},
   "outputs": [
    {
     "data": {
      "image/png": "[encoded data removed]",
      "text/plain": [
       "<Figure size 720x720 with 64 Axes>"
      ]
     },
     "metadata": {},
     "output_type": "display_data"
    }
   ],
   "source": [
    "fig = plt.figure(1,figsize=(10,10))\n",
    "fig.patch.set_facecolor('xkcd:beige')\n",
    "idx = 1\n",
    "for i in range(8):\n",
    "    for j in range(8):\n",
    "        X = np.zeros((8,8))\n",
    "        X[i,j] = 1\n",
    "        xh = idct(X)\n",
    "        \n",
    "        plt.subplot(8,8,idx)        \n",
    "        plt.imshow(xh, cmap='gray')        \n",
    "        plt.axis('off')\n",
    "        \n",
    "        idx += 1\n",
    "plt.savefig('2dDCT_basis_functions.pdf', bbox_inches='tight', facecolor=fig.get_facecolor(), edgecolor='none')"
   ]
  },
  {
   "cell_type": "code",
   "execution_count": null,
   "metadata": {},
   "outputs": [],
   "source": []
  }
 ],
 "metadata": {
  "kernelspec": {
   "display_name": "Python 3",
   "language": "python",
   "name": "python3"
  },
  "language_info": {
   "codemirror_mode": {
    "name": "ipython",
    "version": 3
   },
   "file_extension": ".py",
   "mimetype": "text/x-python",
   "name": "python",
   "nbconvert_exporter": "python",
   "pygments_lexer": "ipython3",
   "version": "3.7.6"
  }
 },
 "nbformat": 4,
 "nbformat_minor": 4
}
