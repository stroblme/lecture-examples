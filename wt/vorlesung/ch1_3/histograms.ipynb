{
 "cells": [
  {
   "cell_type": "markdown",
   "metadata": {},
   "source": [
    "# Content and Objective"
   ]
  },
  {
   "cell_type": "markdown",
   "metadata": {},
   "source": [
    "- Show use of histograms by sampling height of multiple people and determining histograms with different parametrization\n",
    "\n",
    "- NOTE: Results are based on sampling--yet unknown--Gaussian distribution. Nevertheless, the general idea should be comprehensible."
   ]
  },
  {
   "cell_type": "markdown",
   "metadata": {},
   "source": [
    "# Import"
   ]
  },
  {
   "cell_type": "code",
   "execution_count": 1,
   "metadata": {},
   "outputs": [],
   "source": [
    "# importing\n",
    "import numpy as np\n",
    "\n",
    "import matplotlib.pyplot as plt\n",
    "import matplotlib\n",
    "\n",
    "# showing figures inline\n",
    "%matplotlib inline"
   ]
  },
  {
   "cell_type": "code",
   "execution_count": 2,
   "metadata": {},
   "outputs": [],
   "source": [
    "# plotting options \n",
    "font = {'size'   : 20}\n",
    "plt.rc('font', **font)\n",
    "plt.rc('text', usetex=True)\n",
    "\n",
    "matplotlib.rc('figure', figsize=(18, 6) )"
   ]
  },
  {
   "cell_type": "markdown",
   "metadata": {},
   "source": [
    "# Parameters"
   ]
  },
  {
   "cell_type": "code",
   "execution_count": 3,
   "metadata": {},
   "outputs": [],
   "source": [
    "# number of people \n",
    "N_people = 500"
   ]
  },
  {
   "cell_type": "markdown",
   "metadata": {},
   "source": [
    "# Simulation"
   ]
  },
  {
   "cell_type": "code",
   "execution_count": 4,
   "metadata": {
    "scrolled": true
   },
   "outputs": [],
   "source": [
    "# get random samples of gaussian distribution\n",
    "# Note: Meaning of Gaussian and parameterization will not be introduced until ch. 5\n",
    "heights = 172.66 + 9.34 * np.random.randn( N_people )"
   ]
  },
  {
   "cell_type": "markdown",
   "metadata": {},
   "source": [
    "# Plotting"
   ]
  },
  {
   "cell_type": "code",
   "execution_count": 5,
   "metadata": {},
   "outputs": [
    {
     "data": {
      "image/png": "[encoded data removed]",
      "text/plain": [
       "<Figure size 1296x432 with 4 Axes>"
      ]
     },
     "metadata": {
      "needs_background": "light"
     },
     "output_type": "display_data"
    }
   ],
   "source": [
    "# plotting\n",
    "plt.figure()\n",
    "\n",
    "plt.subplot(221)\n",
    "plt.hist( heights, bins=5, range=(140,210), density=True )\n",
    "\n",
    "plt.grid( True )\n",
    "plt.ylabel('$\\hat{P}(h)$')\n",
    "plt.margins(.1)\n",
    "plt.title('5 bins')\n",
    "\n",
    "plt.subplot(222)\n",
    "plt.hist( heights, bins=20, range=(140,210), density=True )\n",
    "\n",
    "plt.grid( True )\n",
    "plt.ylabel('$\\hat{P}(h)$')\n",
    "plt.margins(.1)\n",
    "plt.title('20 bins')\n",
    "\n",
    "\n",
    "\n",
    "plt.subplot(223)\n",
    "plt.hist( heights, bins=50, range=(140,210), density=True )\n",
    "\n",
    "plt.grid( True )\n",
    "plt.xlabel('$h$')\n",
    "plt.ylabel('$\\hat{P}(h)$')\n",
    "plt.margins(.1)\n",
    "plt.title('50 bins')\n",
    "\n",
    "\n",
    "plt.subplot(224)\n",
    "plt.hist( heights, bins=500, range=(140,210), density=True )\n",
    "\n",
    "plt.grid( True )\n",
    "plt.xlabel('$h$')\n",
    "plt.ylabel('$\\hat{P}(h)$')\n",
    "plt.margins(.1)\n",
    "plt.title('500 bins')\n",
    "\n",
    "plt.tight_layout()\n"
   ]
  },
  {
   "cell_type": "markdown",
   "metadata": {},
   "source": [
    "# Discussion\n",
    "\n",
    "- Obviously, using 5 \"bins\" (=clusters) is not sufficient to get meaningful information.\n",
    "- Using 500 bins is way too much since there are clusters containing only few or even no values.\n",
    "- 20 - 50 bins seem to make most sense. In fact, the appropriate number of bins is related to the number of samples/realizations that are used for generating the histogram and to the width of the distribution."
   ]
  },
  {
   "cell_type": "code",
   "execution_count": null,
   "metadata": {},
   "outputs": [],
   "source": []
  }
 ],
 "metadata": {
  "kernelspec": {
   "display_name": "Python 3",
   "language": "python",
   "name": "python3"
  },
  "language_info": {
   "codemirror_mode": {
    "name": "ipython",
    "version": 3
   },
   "file_extension": ".py",
   "mimetype": "text/x-python",
   "name": "python",
   "nbconvert_exporter": "python",
   "pygments_lexer": "ipython3",
   "version": "3.7.8"
  }
 },
 "nbformat": 4,
 "nbformat_minor": 4
}
